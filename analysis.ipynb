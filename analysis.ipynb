# Part 1: Data Loading & Exploration
import pandas as pd
import matplotlib.pyplot as plt
import seaborn as sns
from wordcloud import WordCloud

# Load metadata
df = pd.read_csv("../data/metadata.csv")

# Basic overview
print("Shape:", df.shape)
print(df.info())
print(df.head())

# Missing values
print(df.isnull().sum().sort_values(ascending=False).head(10))

# Summary stats
print(df.describe())

# Part 2: Data Cleaning & Preparation
# Handle missing values
df = df.dropna(subset=['title', 'abstract', 'publish_time'])

# Convert publish_time to datetime
df['publish_time'] = pd.to_datetime(df['publish_time'], errors='coerce')

# Extract year
df['year'] = df['publish_time'].dt.year

# Create abstract word count
df['abstract_word_count'] = df['abstract'].apply(lambda x: len(str(x).split()))


# Part 3: Data Analysis & Visualization
# Publications by year
year_counts = df['year'].value_counts().sort_index()

plt.figure(figsize=(10,5))
sns.barplot(x=year_counts.index, y=year_counts.values, palette="Blues_d")
plt.title("Publications by Year")
plt.xlabel("Year")
plt.ylabel("Number of Papers")
plt.show()

# Top journals
top_journals = df['journal'].value_counts().head(10)
plt.figure(figsize=(10,5))
sns.barplot(y=top_journals.index, x=top_journals.values, palette="Greens_d")
plt.title("Top Journals Publishing COVID-19 Research")
plt.xlabel("Number of Papers")
plt.show()

# Word cloud of titles
text = " ".join(df['title'].dropna().values)
wordcloud = WordCloud(width=800, height=400, background_color="white").generate(text)

plt.figure(figsize=(10,5))
plt.imshow(wordcloud, interpolation="bilinear")
plt.axis("off")
plt.title("Word Cloud of Paper Titles")
plt.show()

